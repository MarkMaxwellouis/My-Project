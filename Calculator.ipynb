{
 "cells": [
  {
   "cell_type": "markdown",
   "id": "82d811d3-9306-4308-9d90-b86dff287375",
   "metadata": {},
   "source": [
    "Calculator\n"
   ]
  },
  {
   "cell_type": "code",
   "execution_count": 2,
   "id": "61885a02-cc3b-44a4-8def-3343f7462c6d",
   "metadata": {},
   "outputs": [],
   "source": [
    "def add(x,y):\n",
    "    return x + y\n",
    "def substract(x,y):\n",
    "    return x - y\n",
    "def multiply(x,y):\n",
    "    return x * y\n",
    "def division(x,y):\n",
    "    return x / y"
   ]
  },
  {
   "cell_type": "code",
   "execution_count": 3,
   "id": "f3d1f62c-a981-4a01-891a-3b3783897618",
   "metadata": {},
   "outputs": [
    {
     "name": "stdin",
     "output_type": "stream",
     "text": [
      "Enter Choice (A,S,M,D):  A\n",
      "Enter first number:  2\n",
      "Enter second number:  3\n"
     ]
    }
   ],
   "source": [
    "choice = input('Enter Choice (A,S,M,D): ')\n",
    "\n",
    "num1 = float(input('Enter first number: '))\n",
    "\n",
    "num2 = float(input('Enter second number: '))"
   ]
  },
  {
   "cell_type": "code",
   "execution_count": 5,
   "id": "a6ded544-93a3-4911-89cc-cf5561c7e821",
   "metadata": {},
   "outputs": [
    {
     "name": "stdout",
     "output_type": "stream",
     "text": [
      "Enter 'A' for Addition.\n",
      "Enter 'S' for Substraction.\n",
      "Enter 'M' for Multiplication.\n",
      "Enter 'D' for Division.\n"
     ]
    },
    {
     "name": "stdin",
     "output_type": "stream",
     "text": [
      "Enter Choice (A,S,M,D):  A\n",
      "Enter first number:  10\n",
      "Enter second number:  20\n"
     ]
    },
    {
     "name": "stdout",
     "output_type": "stream",
     "text": [
      "Result: 10.0 + 20.0 = 30.0\n"
     ]
    }
   ],
   "source": [
    "print(\"Enter 'A' for Addition.\")\n",
    "print(\"Enter 'S' for Substraction.\")\n",
    "print(\"Enter 'M' for Multiplication.\")\n",
    "print(\"Enter 'D' for Division.\")\n",
    "\n",
    "choice = input('Enter Choice (A,S,M,D): ')\n",
    "\n",
    "if choice.upper() in ('A','ADD','ADDITION','S', 'SUBSTRACT', 'SUBSTRACTION', 'M', 'MULTIPLY', 'MULTIPLICATION','D','DIVIDE','DIVISION'):  # Added missing colon here\n",
    "   num1 = float(input('Enter first number: '))\n",
    "   num2 = float(input('Enter second number: '))\n",
    "   \n",
    "   if choice.upper() in ('A','ADD','ADDITION'):  \n",
    "       print('Result:', num1, '+', num2, '=', add(num1,num2))\n",
    "\n",
    "   elif choice.upper() in ('S','SUBSTRACT','SUBSTRACTION'):  \n",
    "       print('Result:', num1, '-', num2, '=', substract(num1,num2))\n",
    "\n",
    "   elif choice.upper() in ('M','MULTIPLY','MULTIPLICATION'):  \n",
    "       print('Result:', num1, '*', num2, '=', multiply(num1,num2))\n",
    "\n",
    "   elif choice.upper() in ('D','DIVIDE','DIVISION'):  \n",
    "       print('Result:', num1, '/', num2, '=', divide(num1,num2))\n",
    "\n",
    "else:\n",
    "    print(\"Please Input a Correct Choice.\")\n",
    "       \n",
    "\n"
   ]
  },
  {
   "cell_type": "code",
   "execution_count": null,
   "id": "79e68441-ab7f-46da-bcfd-0296019d86ee",
   "metadata": {},
   "outputs": [
    {
     "name": "stdout",
     "output_type": "stream",
     "text": [
      "Enter 'A' for Addition.\n",
      "Enter 'S' for Substraction.\n",
      "Enter 'M' for Multiplication.\n",
      "Enter 'D' for Division.\n"
     ]
    },
    {
     "name": "stdin",
     "output_type": "stream",
     "text": [
      "Enter Choice (A,S,M,D):  A\n",
      "Enter first number:  20\n",
      "Enter second number:  40\n"
     ]
    },
    {
     "name": "stdout",
     "output_type": "stream",
     "text": [
      "Result: 20.0 + 40.0 = 60.0\n"
     ]
    },
    {
     "name": "stdin",
     "output_type": "stream",
     "text": [
      "Want to do another Calculation? (yes/no?): YES\n",
      "Enter Choice (A,S,M,D):  M\n",
      "Enter first number:  20\n",
      "Enter second number:  10\n"
     ]
    },
    {
     "name": "stdout",
     "output_type": "stream",
     "text": [
      "Result: 20.0 * 10.0 = 200.0\n"
     ]
    }
   ],
   "source": [
    "print(\"Enter 'A' for Addition.\")\n",
    "print(\"Enter 'S' for Substraction.\")\n",
    "print(\"Enter 'M' for Multiplication.\")\n",
    "print(\"Enter 'D' for Division.\")\n",
    "\n",
    "while True:\n",
    "  choice = input('Enter Choice (A,S,M,D): ')\n",
    "\n",
    "  if choice.upper() in ('A','ADD','ADDITION','S', 'SUBSTRACT', 'SUBSTRACTION', 'M', 'MULTIPLY', 'MULTIPLICATION','D','DIVIDE','DIVISION'):  # Added missing colon here\n",
    "     num1 = float(input('Enter first number: '))\n",
    "     num2 = float(input('Enter second number: '))\n",
    "   \n",
    "     if choice.upper() in ('A','ADD','ADDITION'):  \n",
    "       print('Result:', num1, '+', num2, '=', add(num1,num2))\n",
    "\n",
    "     elif choice.upper() in ('S','SUBSTRACT','SUBSTRACTION'):  \n",
    "       print('Result:', num1, '-', num2, '=', substract(num1,num2))\n",
    "\n",
    "     elif choice.upper() in ('M','MULTIPLY','MULTIPLICATION'):  \n",
    "       print('Result:', num1, '*', num2, '=', multiply(num1,num2))\n",
    "\n",
    "     elif choice.upper() in ('D','DIVIDE','DIVISION'):  \n",
    "       print('Result:', num1, '/', num2, '=', divide(num1,num2))\n",
    "\n",
    "  else:\n",
    "    print(\"Please Input a Correct Choice.\")\n",
    "\n",
    "  next_calculation = input(\"Want to do another Calculation? (yes/no?):\")\n",
    "  if next_calculation.lower() in ('no','n','nope'):\n",
    "      break\n",
    "    "
   ]
  },
  {
   "cell_type": "code",
   "execution_count": null,
   "id": "fce21fa6-2f63-45b8-abc5-acb088c36311",
   "metadata": {},
   "outputs": [],
   "source": []
  },
  {
   "cell_type": "code",
   "execution_count": null,
   "id": "3a0943d3-3238-42a7-9640-43cf89d0a91e",
   "metadata": {},
   "outputs": [],
   "source": []
  },
  {
   "cell_type": "code",
   "execution_count": null,
   "id": "c16673a0-b342-453c-b858-f9dbec35590d",
   "metadata": {},
   "outputs": [],
   "source": []
  }
 ],
 "metadata": {
  "kernelspec": {
   "display_name": "Python [conda env:base] *",
   "language": "python",
   "name": "conda-base-py"
  },
  "language_info": {
   "codemirror_mode": {
    "name": "ipython",
    "version": 3
   },
   "file_extension": ".py",
   "mimetype": "text/x-python",
   "name": "python",
   "nbconvert_exporter": "python",
   "pygments_lexer": "ipython3",
   "version": "3.13.5"
  }
 },
 "nbformat": 4,
 "nbformat_minor": 5
}
